{
 "cells": [
  {
   "cell_type": "markdown",
   "id": "035bdae4-afaf-4dd3-9449-999f669cb13a",
   "metadata": {},
   "source": [
    "# Guia de instalação do Vagrant no MacOS"
   ]
  },
  {
   "cell_type": "markdown",
   "id": "3ae0870e-c234-4237-87d3-8704bb380bc4",
   "metadata": {},
   "source": [
    "#### Pré-requisitos:\n",
    " - VirtualBox instalado (https://download.virtualbox.org/virtualbox/6.1.22/VirtualBox-6.1.22-144080-OSX.dmg). Site oficial: https://www.virtualbox.org/"
   ]
  },
  {
   "cell_type": "markdown",
   "id": "e75adcb6-6c6a-4b83-953d-d419948bbad1",
   "metadata": {},
   "source": [
    "#### Executar comandos direto pelo notebook do JupyterLab:\n",
    "\n",
    " - Clique na linha de código e execute com **Shift+Enter**\n",
    " \n",
    " > Obs1: para executar os comandos a seguir diretamente no terminal, copie o código ignorando o `!`. \n",
    " \n",
    " > Obs2: para limpar o conteúdo das saídas, vá em Edit (canto superior esquerdo) e clique em Clear All Outputs."
   ]
  },
  {
   "cell_type": "markdown",
   "id": "a93b5f15-fb08-469a-82dc-d1eef2e1bb8e",
   "metadata": {},
   "source": [
    "## Guia de instalação"
   ]
  },
  {
   "cell_type": "markdown",
   "id": "9e136efe-016f-46db-9280-2fe85faf330a",
   "metadata": {},
   "source": [
    "### Passo 1 - Download e instalação do Vagrant\n",
    "\n",
    "* Download direto pelo HomeBrew, execute os comandos:"
   ]
  },
  {
   "cell_type": "code",
   "execution_count": null,
   "id": "7fe43662-4ad0-425d-96fd-8fdcffa57bd7",
   "metadata": {},
   "outputs": [],
   "source": [
    "! brew tap hashicorp/tap"
   ]
  },
  {
   "cell_type": "code",
   "execution_count": null,
   "id": "8b43115a-e735-482e-833a-d841fc18452b",
   "metadata": {},
   "outputs": [],
   "source": [
    "! brew install hashicorp/tap/vagrant"
   ]
  },
  {
   "cell_type": "markdown",
   "id": "136cb270-006c-40fc-8942-7a0c2fdd002b",
   "metadata": {},
   "source": [
    "> Obs: site oficial com mais informações sobre a instalação do Vagrant: https://www.vagrantup.com/"
   ]
  },
  {
   "cell_type": "markdown",
   "id": "4ad5b0bd-9dbd-4bbb-aef9-641e76562d13",
   "metadata": {},
   "source": [
    "### Passo 2 - Instalar imagem do sistema para virtualização (Box)\n",
    "\n",
    " No site https://app.vagrantup.com/boxes/search é possível encontrar diferentes boxes para utilizar com vagrant\n",
    " \n",
    " > Dica: Para pesquisar apenas por versões Ubuntu, acesse https://app.vagrantup.com/ubuntu\n",
    " \n",
    "- Para fazer o download (caso ainda não tenha baixado) e instalar o sistema Ubuntu/focal64 com Vagrant nesta pasta, execute o comando a seguir:"
   ]
  },
  {
   "cell_type": "code",
   "execution_count": null,
   "id": "9d86d00e-3efa-4903-8ead-71e8b5cb65b0",
   "metadata": {},
   "outputs": [],
   "source": [
    "! vagrant init ubuntu/focal64"
   ]
  },
  {
   "cell_type": "markdown",
   "id": "be3ddaf8-db3f-4bd5-ba33-12f9cbe67de7",
   "metadata": {},
   "source": [
    "> Obs: `ubuntu/focal64` é o nome/versão do sistema. Caso tenha escolhido outro, altere apenas essa parte do código e execute o comando `vagrant init nome/versão`"
   ]
  },
  {
   "cell_type": "markdown",
   "id": "ddea23c8-c5ab-467d-84d2-a646b21139f2",
   "metadata": {},
   "source": [
    "### Passo 3 - Iniciar, verificar status e desligar VM\n",
    "\n",
    "- Para **iniciar** a VM, execute o comando a seguir:"
   ]
  },
  {
   "cell_type": "code",
   "execution_count": null,
   "id": "5c045324-ac62-4770-8296-b3277f4edf9b",
   "metadata": {},
   "outputs": [],
   "source": [
    "! vagrant up"
   ]
  },
  {
   "cell_type": "markdown",
   "id": "b269f9f1-c781-4d43-8ad2-9044d634c314",
   "metadata": {},
   "source": [
    "- Para **verificar status** da VM, execute o comando a seguir:"
   ]
  },
  {
   "cell_type": "code",
   "execution_count": null,
   "id": "299aebb4-6879-499a-9f23-f66d0e062bfd",
   "metadata": {},
   "outputs": [],
   "source": [
    "! vagrant status"
   ]
  },
  {
   "cell_type": "markdown",
   "id": "5a99ce6c-7593-4410-bc44-2f7d6d691f95",
   "metadata": {},
   "source": [
    "- Para **desligar** a VM, execute o comando a seguir:"
   ]
  },
  {
   "cell_type": "code",
   "execution_count": null,
   "id": "e703c0fc-ba40-446c-b664-a19cd928371e",
   "metadata": {},
   "outputs": [],
   "source": [
    "! vagrant halt"
   ]
  },
  {
   "cell_type": "markdown",
   "id": "4dca9b12-59bc-4adf-b22e-406cc33acda4",
   "metadata": {},
   "source": [
    ">Obs: Execute o comando `vagrant status` novamente para verificar o estado da VM."
   ]
  },
  {
   "cell_type": "markdown",
   "id": "5264c568-b4da-40a9-b615-813837a71dc6",
   "metadata": {},
   "source": [
    "##### A VM já está configurada! Para criar outras Máquinas Virtuais com Vagrant diretamente pelo terminal, vá até a pasta em que deseja instalar a VM e repita os passos acima (ignorar o `!` nos códigos)."
   ]
  },
  {
   "cell_type": "markdown",
   "id": "d9c8f91a-d3e7-48de-bd64-8607d70a6080",
   "metadata": {},
   "source": [
    "### Comandos úteis:"
   ]
  },
  {
   "cell_type": "markdown",
   "id": "71e702e3-2779-42ac-8920-f8c417802b9d",
   "metadata": {},
   "source": [
    "- Listar as boxes instaladas:"
   ]
  },
  {
   "cell_type": "code",
   "execution_count": null,
   "id": "2325172f-5769-4612-a392-8d584b5bcc3d",
   "metadata": {},
   "outputs": [],
   "source": [
    "! vagrant box list"
   ]
  },
  {
   "cell_type": "markdown",
   "id": "2537b457-52b6-4e3c-91ca-be20e0fffc38",
   "metadata": {},
   "source": [
    "- Destruir a máquina (necessário confirmação):"
   ]
  },
  {
   "cell_type": "markdown",
   "id": "cbc3bfa3-219c-4436-88f5-be806edc7405",
   "metadata": {
    "tags": []
   },
   "source": [
    "`vagrant destroy`"
   ]
  },
  {
   "cell_type": "markdown",
   "id": "afa2b117-eab7-4b9e-b255-1ad2351e7bf4",
   "metadata": {},
   "source": [
    "- Suspender a máquina:"
   ]
  },
  {
   "cell_type": "code",
   "execution_count": null,
   "id": "0233b729-687e-403c-8365-330eeea0b8d5",
   "metadata": {},
   "outputs": [],
   "source": [
    "! vagrant suspend"
   ]
  },
  {
   "cell_type": "markdown",
   "id": "91b73fa4-9885-491d-8544-e6b95aedb2aa",
   "metadata": {},
   "source": [
    "- Retomar máquina (que estava em estado suspenso):"
   ]
  },
  {
   "cell_type": "code",
   "execution_count": null,
   "id": "3cfcc6e7-dd08-432d-add8-0d9d8881d6ba",
   "metadata": {},
   "outputs": [],
   "source": [
    "! vagrant resume"
   ]
  },
  {
   "cell_type": "markdown",
   "id": "743a3fdd-ef0e-49db-811a-dbfbd2c6bcc3",
   "metadata": {},
   "source": [
    "- Reiniciar a máquina:"
   ]
  },
  {
   "cell_type": "code",
   "execution_count": null,
   "id": "f8beba6b-ba3d-4fd5-b07c-ab28f9c1bf84",
   "metadata": {},
   "outputs": [],
   "source": [
    "! vagrant reload"
   ]
  },
  {
   "cell_type": "markdown",
   "id": "f1a952bc-ba47-4c3f-b6ee-c41d7226ca5c",
   "metadata": {},
   "source": [
    "- Listar comandos:"
   ]
  },
  {
   "cell_type": "code",
   "execution_count": null,
   "id": "62bffba4-5061-44c8-aef7-052dd3317b36",
   "metadata": {},
   "outputs": [],
   "source": [
    "! vagrant -h"
   ]
  },
  {
   "cell_type": "markdown",
   "id": "89655f02-f69b-46ef-9c7d-e0b87009df02",
   "metadata": {},
   "source": [
    "#### Dica: para visualizar comandos dentro de um código, digite `vagrant COMANDO -h`. Exemplo:"
   ]
  },
  {
   "cell_type": "code",
   "execution_count": null,
   "id": "b818eda9-7f72-47ef-8842-ea00fc9d0cd8",
   "metadata": {},
   "outputs": [],
   "source": [
    "! vagrant init -h"
   ]
  }
 ],
 "metadata": {
  "kernelspec": {
   "display_name": "Python 3",
   "language": "python",
   "name": "python3"
  },
  "language_info": {
   "codemirror_mode": {
    "name": "ipython",
    "version": 3
   },
   "file_extension": ".py",
   "mimetype": "text/x-python",
   "name": "python",
   "nbconvert_exporter": "python",
   "pygments_lexer": "ipython3",
   "version": "3.7.9"
  }
 },
 "nbformat": 4,
 "nbformat_minor": 5
}
